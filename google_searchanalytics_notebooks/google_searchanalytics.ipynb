{
 "cells": [
  {
   "cell_type": "markdown",
   "metadata": {},
   "source": [
    "# Download Searchanalytics Data\n",
    "Herunterladen von Google Search Console Suchanalyse-Daten mit dem Python Package `searchconsole` [github link](https://github.com/joshcarty/google-searchconsole)"
   ]
  },
  {
   "cell_type": "code",
   "execution_count": null,
   "metadata": {},
   "outputs": [],
   "source": [
    "import searchconsole"
   ]
  },
  {
   "cell_type": "markdown",
   "metadata": {},
   "source": [
    "Verifizieren des API Zugriffs.\n",
    "\n",
    "→ Wenn ihr das Notebook auf Binder.org ausführt, werden eure Credentials natürlich nicht gespeichert!"
   ]
  },
  {
   "cell_type": "markdown",
   "metadata": {},
   "source": [
    "## Authentifizierung - Notebook auf mybinder.org\n",
    "Wenn ihr das Notebook auf mybinder.org ausführt, öffnet die `.authenticate` Methode kein neues Fenster für die Authentifizierung. Ich gehe daher den Umweg über `pydata_google_auth`. "
   ]
  },
  {
   "cell_type": "code",
   "execution_count": null,
   "metadata": {},
   "outputs": [],
   "source": [
    "import json\n",
    "import pydata_google_auth\n",
    "from pydata_google_auth import cache\n",
    "from googleapiclient.discovery import build\n",
    "from searchconsole.account import Account\n",
    "\n",
    "with open('client_secrets.json') as f:\n",
    "    cs = json.load(f)\n",
    "\n",
    "credentials = pydata_google_auth.get_user_credentials(scopes=['https://www.googleapis.com/auth/webmasters.readonly'],\n",
    "                                                      client_id=cs['installed']['client_id'],\n",
    "                                                      client_secret=cs['installed']['client_secret'],\n",
    "                                                      credentials_cache=cache.REAUTH,\n",
    "                                                      auth_local_webserver=False)\n",
    "\n",
    "service = build('webmasters', 'v3', credentials=credentials)\n",
    "\n",
    "account = Account(service, credentials)"
   ]
  },
  {
   "cell_type": "markdown",
   "metadata": {},
   "source": [
    "## Authentifizierung - Lokales Notebook\n",
    "Bei einem lokalen Notebook kann einfach wie für das Package `searchconsole` üblich fortgefahren werden."
   ]
  },
  {
   "cell_type": "code",
   "execution_count": null,
   "metadata": {},
   "outputs": [],
   "source": [
    "# account = searchconsole.authenticate(client_config='client_secrets.json')"
   ]
  },
  {
   "cell_type": "markdown",
   "metadata": {},
   "source": [
    "## Daten abfragen"
   ]
  },
  {
   "cell_type": "markdown",
   "metadata": {},
   "source": [
    "Liste der verifizierten Properties in dem Account"
   ]
  },
  {
   "cell_type": "code",
   "execution_count": null,
   "metadata": {},
   "outputs": [],
   "source": [
    "account.webproperties"
   ]
  },
  {
   "cell_type": "markdown",
   "metadata": {},
   "source": [
    "Webproperty Object mit dem wir den Query erstellen."
   ]
  },
  {
   "cell_type": "code",
   "execution_count": null,
   "metadata": {},
   "outputs": [],
   "source": [
    "webproperty = account['https://www.example.de/']"
   ]
  },
  {
   "cell_type": "markdown",
   "metadata": {},
   "source": [
    "Query erstellen und ausführen."
   ]
  },
  {
   "cell_type": "code",
   "execution_count": null,
   "metadata": {},
   "outputs": [],
   "source": [
    "query = webproperty.query.range(start='2019-03-18', stop='2019-03-24') \\\n",
    "    .dimension('query')"
   ]
  },
  {
   "cell_type": "code",
   "execution_count": null,
   "metadata": {},
   "outputs": [],
   "source": [
    "data = query.get()"
   ]
  },
  {
   "cell_type": "markdown",
   "metadata": {},
   "source": [
    "So sieht das ganze als Pandas DataFrame aus. Hiermit kann man nun alles mögliche anstellen."
   ]
  },
  {
   "cell_type": "code",
   "execution_count": null,
   "metadata": {},
   "outputs": [],
   "source": [
    "df = data.to_dataframe()\n",
    "df.head()"
   ]
  },
  {
   "cell_type": "markdown",
   "metadata": {},
   "source": [
    "Eine Abfrage mit Filter."
   ]
  },
  {
   "cell_type": "code",
   "execution_count": null,
   "metadata": {},
   "outputs": [],
   "source": [
    "df = webproperty.query.range(start='2019-03-18', stop='2019-03-24') \\\n",
    "    .dimension('page','query') \\\n",
    "    .filter('page', 'https://www.example.de/', 'equals') \\\n",
    "    .get() \\\n",
    "    .to_dataframe()\n",
    "df.head()"
   ]
  },
  {
   "cell_type": "markdown",
   "metadata": {},
   "source": [
    "Export der Daten als CSV. Die Datei sollte heruntergeladen werden können. ✌️😉"
   ]
  },
  {
   "cell_type": "code",
   "execution_count": null,
   "metadata": {},
   "outputs": [],
   "source": [
    "df.to_csv('gsc_searchanalytics_output.csv', header=True, index=False)"
   ]
  },
  {
   "cell_type": "markdown",
   "metadata": {},
   "source": [
    "## Mit ipywidgets"
   ]
  },
  {
   "cell_type": "code",
   "execution_count": null,
   "metadata": {},
   "outputs": [],
   "source": [
    "import pandas as pd\n",
    "import ipywidgets as widgets\n",
    "from tqdm import tqdm_notebook as tqdm\n",
    "from IPython.display import FileLink\n",
    "import time\n",
    "\n",
    "def download_data(b):\n",
    "    output.clear_output()\n",
    "    with output:\n",
    "        assert start.value is not None, 'Startdate not set'\n",
    "        assert end.value is not None, 'Enddate not set'\n",
    "        assert start.value <= end.value, 'Startdate after Enddate'\n",
    "\n",
    "        export_to_csv_button.disabled = True\n",
    "        b.description = '...in progress...'\n",
    "        b.disabled = True\n",
    "        try:\n",
    "            global daily_data\n",
    "\n",
    "            dates = [row.strftime('%Y-%m-%d') for row in pd.date_range(start=start.value, end=end.value, freq='D')]\n",
    "\n",
    "            daily_data = []\n",
    "\n",
    "            for date in tqdm(dates):\n",
    "                data = webproperty_select.value.query.range(\n",
    "                    start=date, stop=date\n",
    "                ).dimension(\n",
    "                    *dimension.value\n",
    "                ).search_type(\n",
    "                    searchtype.value\n",
    "                ).get().to_dataframe()\n",
    "                data['date'] = date\n",
    "                daily_data.append(data)\n",
    "                time.sleep(.3)\n",
    "\n",
    "            daily_data = pd.concat(daily_data)\n",
    "            daily_data['date'] = pd.to_datetime(daily_data['date'])\n",
    "        except:\n",
    "            raise\n",
    "        else:\n",
    "            export_to_csv_button.disabled = False\n",
    "        finally:\n",
    "            b.disabled = False\n",
    "            b.description = 'Download from API'\n",
    "\n",
    "def export_data(b):\n",
    "    output.clear_output()\n",
    "    with output:\n",
    "        print('Exporting to CSV...')\n",
    "        daily_data.to_csv(\n",
    "            'gsc_searchanalytics_output.csv',\n",
    "            header=True,\n",
    "            index=False,\n",
    "            sep=';',\n",
    "            decimal=','\n",
    "        )\n",
    "        print('Done ✌️😉')\n",
    "        display(FileLink('gsc_searchanalytics_output.csv'))\n",
    "\n",
    "webproperty_select = widgets.Dropdown(\n",
    "    options=[(row.url, row) for row in account.webproperties],\n",
    "    description='Property',\n",
    "    layout=widgets.Layout(flex='2 1 auto')\n",
    ")\n",
    "\n",
    "start = widgets.DatePicker(description='Startdate')\n",
    "end = widgets.DatePicker(description='Enddate')\n",
    "\n",
    "searchtype = widgets.Dropdown(\n",
    "    options=sorted(['web','image','video']),\n",
    "    value='web',\n",
    "    description='Searchtype'\n",
    ")\n",
    "\n",
    "dimension = widgets.SelectMultiple(\n",
    "    options=sorted(['country','device','page','query']),\n",
    "    value=['query'],\n",
    "    description='Dimensions'\n",
    ")\n",
    "\n",
    "download_data_button = widgets.Button(\n",
    "    description='Download from API',\n",
    "    tooltip='Start calling GSC API',\n",
    "    layout=widgets.Layout(flex='2 1 auto')\n",
    ")\n",
    "\n",
    "export_to_csv_button = widgets.Button(\n",
    "    description='Export to CSV',\n",
    "    tooltip='Write GSC data to CSV file',\n",
    "    disabled=True,\n",
    "    layout=download_data_button.layout\n",
    ")\n",
    "\n",
    "download_data_button.on_click(download_data)\n",
    "export_to_csv_button.on_click(export_data)\n",
    "\n",
    "output = widgets.Output(\n",
    "    layout=widgets.Layout(flex='2 1 auto')\n",
    ")\n",
    "\n",
    "widgets.VBox([\n",
    "    widgets.HBox([webproperty_select,start,end]),\n",
    "    widgets.HBox([dimension,searchtype]),\n",
    "    widgets.HBox([download_data_button,\n",
    "                  export_to_csv_button]),\n",
    "    widgets.HBox([output])\n",
    "])"
   ]
  }
 ],
 "metadata": {
  "hide_input": false,
  "kernelspec": {
   "display_name": "Python 3",
   "language": "python",
   "name": "python3"
  },
  "language_info": {
   "codemirror_mode": {
    "name": "ipython",
    "version": 3
   },
   "file_extension": ".py",
   "mimetype": "text/x-python",
   "name": "python",
   "nbconvert_exporter": "python",
   "pygments_lexer": "ipython3",
   "version": "3.7.3"
  }
 },
 "nbformat": 4,
 "nbformat_minor": 2
}
