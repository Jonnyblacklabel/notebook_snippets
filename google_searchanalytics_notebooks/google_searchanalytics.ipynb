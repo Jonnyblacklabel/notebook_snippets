{
 "cells": [
  {
   "cell_type": "markdown",
   "metadata": {},
   "source": [
    "# Download Searchanalytics Data\n",
    "Herunterladen von Google Search Console Suchanalyse-Daten mit dem Python Package `searchconsole` [github link](https://github.com/joshcarty/google-searchconsole)"
   ]
  },
  {
   "cell_type": "code",
   "execution_count": 1,
   "metadata": {},
   "outputs": [],
   "source": [
    "import searchconsole"
   ]
  },
  {
   "cell_type": "markdown",
   "metadata": {},
   "source": [
    "Verifizieren des API Zugriffs.\n",
    "\n",
    "→ Wenn ihr das Notebook auf Binder.org ausführt, werden eure Credentials natürlich nicht gespeichert!"
   ]
  },
  {
   "cell_type": "code",
   "execution_count": 2,
   "metadata": {},
   "outputs": [
    {
     "name": "stdout",
     "output_type": "stream",
     "text": [
      "Please visit this URL to authorize this application: https://accounts.google.com/o/oauth2/auth?response_type=code&client_id=930130695988-uqe6l59cmd9qu96c60ti3u4cqq4vs0cr.apps.googleusercontent.com&redirect_uri=http%3A%2F%2Flocalhost%3A8080%2F&scope=https%3A%2F%2Fwww.googleapis.com%2Fauth%2Fwebmasters.readonly&state=3HXuobCiS2NvHlyKWgqWdMDHJpiQ2t&access_type=offline\n"
     ]
    }
   ],
   "source": [
    "account = searchconsole.authenticate(client_config='client_secrets.json')"
   ]
  },
  {
   "cell_type": "markdown",
   "metadata": {},
   "source": [
    "Liste der verifizierten Properties in dem Account"
   ]
  },
  {
   "cell_type": "code",
   "execution_count": 3,
   "metadata": {},
   "outputs": [
    {
     "data": {
      "text/plain": [
       "[<searchconsole.account.WebProperty(url='https://www.serienjunkies.de/person/')>,\n",
       " <searchconsole.account.WebProperty(url='https://www.serienjunkies.de/news/')>,\n",
       " <searchconsole.account.WebProperty(url='https://www.serienjunkies.de/film/')>,\n",
       " <searchconsole.account.WebProperty(url='https://www.serienjunkies.de/')>]"
      ]
     },
     "execution_count": 3,
     "metadata": {},
     "output_type": "execute_result"
    }
   ],
   "source": [
    "account.webproperties"
   ]
  },
  {
   "cell_type": "markdown",
   "metadata": {},
   "source": [
    "Webproperty Object mit dem wir den Query erstellen."
   ]
  },
  {
   "cell_type": "code",
   "execution_count": 4,
   "metadata": {},
   "outputs": [],
   "source": [
    "webproperty = account['https://www.serienjunkies.de/']"
   ]
  },
  {
   "cell_type": "markdown",
   "metadata": {},
   "source": [
    "Query erstellen und ausführen."
   ]
  },
  {
   "cell_type": "code",
   "execution_count": 5,
   "metadata": {},
   "outputs": [],
   "source": [
    "query = webproperty.query.range(start='2019-03-18', stop='2019-03-24') \\\n",
    "    .dimension('query')"
   ]
  },
  {
   "cell_type": "code",
   "execution_count": 6,
   "metadata": {},
   "outputs": [],
   "source": [
    "data = query.get()"
   ]
  },
  {
   "cell_type": "markdown",
   "metadata": {},
   "source": [
    "So sieht das ganze als Pandas DataFrame aus. Hiermit kann man nun alles mögliche anstellen."
   ]
  },
  {
   "cell_type": "code",
   "execution_count": 7,
   "metadata": {},
   "outputs": [
    {
     "data": {
      "text/html": [
       "<div>\n",
       "<style scoped>\n",
       "    .dataframe tbody tr th:only-of-type {\n",
       "        vertical-align: middle;\n",
       "    }\n",
       "\n",
       "    .dataframe tbody tr th {\n",
       "        vertical-align: top;\n",
       "    }\n",
       "\n",
       "    .dataframe thead th {\n",
       "        text-align: right;\n",
       "    }\n",
       "</style>\n",
       "<table border=\"1\" class=\"dataframe\">\n",
       "  <thead>\n",
       "    <tr style=\"text-align: right;\">\n",
       "      <th></th>\n",
       "      <th>query</th>\n",
       "      <th>clicks</th>\n",
       "      <th>impressions</th>\n",
       "      <th>ctr</th>\n",
       "      <th>position</th>\n",
       "    </tr>\n",
       "  </thead>\n",
       "  <tbody>\n",
       "    <tr>\n",
       "      <th>0</th>\n",
       "      <td>serienjunkies</td>\n",
       "      <td>26323.0</td>\n",
       "      <td>32116.0</td>\n",
       "      <td>0.819623</td>\n",
       "      <td>1.010773</td>\n",
       "    </tr>\n",
       "    <tr>\n",
       "      <th>1</th>\n",
       "      <td>serienstream</td>\n",
       "      <td>4554.0</td>\n",
       "      <td>23731.0</td>\n",
       "      <td>0.191901</td>\n",
       "      <td>1.446757</td>\n",
       "    </tr>\n",
       "    <tr>\n",
       "      <th>2</th>\n",
       "      <td>star trek discovery</td>\n",
       "      <td>3112.0</td>\n",
       "      <td>34339.0</td>\n",
       "      <td>0.090626</td>\n",
       "      <td>2.645738</td>\n",
       "    </tr>\n",
       "    <tr>\n",
       "      <th>3</th>\n",
       "      <td>american gods</td>\n",
       "      <td>2426.0</td>\n",
       "      <td>55223.0</td>\n",
       "      <td>0.043931</td>\n",
       "      <td>4.252051</td>\n",
       "    </tr>\n",
       "    <tr>\n",
       "      <th>4</th>\n",
       "      <td>the walking dead staffel 9</td>\n",
       "      <td>2339.0</td>\n",
       "      <td>13989.0</td>\n",
       "      <td>0.167203</td>\n",
       "      <td>3.022232</td>\n",
       "    </tr>\n",
       "  </tbody>\n",
       "</table>\n",
       "</div>"
      ],
      "text/plain": [
       "                        query   clicks  impressions       ctr  position\n",
       "0               serienjunkies  26323.0      32116.0  0.819623  1.010773\n",
       "1                serienstream   4554.0      23731.0  0.191901  1.446757\n",
       "2         star trek discovery   3112.0      34339.0  0.090626  2.645738\n",
       "3               american gods   2426.0      55223.0  0.043931  4.252051\n",
       "4  the walking dead staffel 9   2339.0      13989.0  0.167203  3.022232"
      ]
     },
     "execution_count": 7,
     "metadata": {},
     "output_type": "execute_result"
    }
   ],
   "source": [
    "df = data.to_dataframe()\n",
    "df.head()"
   ]
  },
  {
   "cell_type": "markdown",
   "metadata": {},
   "source": [
    "Eine Abfrage mit Filter."
   ]
  },
  {
   "cell_type": "code",
   "execution_count": 8,
   "metadata": {},
   "outputs": [
    {
     "data": {
      "text/html": [
       "<div>\n",
       "<style scoped>\n",
       "    .dataframe tbody tr th:only-of-type {\n",
       "        vertical-align: middle;\n",
       "    }\n",
       "\n",
       "    .dataframe tbody tr th {\n",
       "        vertical-align: top;\n",
       "    }\n",
       "\n",
       "    .dataframe thead th {\n",
       "        text-align: right;\n",
       "    }\n",
       "</style>\n",
       "<table border=\"1\" class=\"dataframe\">\n",
       "  <thead>\n",
       "    <tr style=\"text-align: right;\">\n",
       "      <th></th>\n",
       "      <th>page</th>\n",
       "      <th>query</th>\n",
       "      <th>clicks</th>\n",
       "      <th>impressions</th>\n",
       "      <th>ctr</th>\n",
       "      <th>position</th>\n",
       "    </tr>\n",
       "  </thead>\n",
       "  <tbody>\n",
       "    <tr>\n",
       "      <th>0</th>\n",
       "      <td>https://www.serienjunkies.de/</td>\n",
       "      <td>serienjunkies</td>\n",
       "      <td>23523.0</td>\n",
       "      <td>31990.0</td>\n",
       "      <td>0.735324</td>\n",
       "      <td>1.316255</td>\n",
       "    </tr>\n",
       "    <tr>\n",
       "      <th>1</th>\n",
       "      <td>https://www.serienjunkies.de/</td>\n",
       "      <td>serienjunkies.de</td>\n",
       "      <td>567.0</td>\n",
       "      <td>703.0</td>\n",
       "      <td>0.806543</td>\n",
       "      <td>1.159317</td>\n",
       "    </tr>\n",
       "    <tr>\n",
       "      <th>2</th>\n",
       "      <td>https://www.serienjunkies.de/</td>\n",
       "      <td>serienjunkie</td>\n",
       "      <td>382.0</td>\n",
       "      <td>577.0</td>\n",
       "      <td>0.662045</td>\n",
       "      <td>1.010399</td>\n",
       "    </tr>\n",
       "    <tr>\n",
       "      <th>3</th>\n",
       "      <td>https://www.serienjunkies.de/</td>\n",
       "      <td>serien junkies</td>\n",
       "      <td>104.0</td>\n",
       "      <td>217.0</td>\n",
       "      <td>0.479263</td>\n",
       "      <td>1.354839</td>\n",
       "    </tr>\n",
       "    <tr>\n",
       "      <th>4</th>\n",
       "      <td>https://www.serienjunkies.de/</td>\n",
       "      <td>mysj</td>\n",
       "      <td>74.0</td>\n",
       "      <td>86.0</td>\n",
       "      <td>0.860465</td>\n",
       "      <td>1.000000</td>\n",
       "    </tr>\n",
       "  </tbody>\n",
       "</table>\n",
       "</div>"
      ],
      "text/plain": [
       "                            page             query   clicks  impressions  \\\n",
       "0  https://www.serienjunkies.de/     serienjunkies  23523.0      31990.0   \n",
       "1  https://www.serienjunkies.de/  serienjunkies.de    567.0        703.0   \n",
       "2  https://www.serienjunkies.de/      serienjunkie    382.0        577.0   \n",
       "3  https://www.serienjunkies.de/    serien junkies    104.0        217.0   \n",
       "4  https://www.serienjunkies.de/              mysj     74.0         86.0   \n",
       "\n",
       "        ctr  position  \n",
       "0  0.735324  1.316255  \n",
       "1  0.806543  1.159317  \n",
       "2  0.662045  1.010399  \n",
       "3  0.479263  1.354839  \n",
       "4  0.860465  1.000000  "
      ]
     },
     "execution_count": 8,
     "metadata": {},
     "output_type": "execute_result"
    }
   ],
   "source": [
    "df = webproperty.query.range(start='2019-03-18', stop='2019-03-24') \\\n",
    "    .dimension('page','query') \\\n",
    "    .filter('page', 'https://www.serienjunkies.de/', 'equals') \\\n",
    "    .get() \\\n",
    "    .to_dataframe()\n",
    "df.head()"
   ]
  },
  {
   "cell_type": "markdown",
   "metadata": {},
   "source": [
    "Export der Daten als CSV. Die Datei sollte heruntergeladen werden können. ✌️😉"
   ]
  },
  {
   "cell_type": "code",
   "execution_count": 9,
   "metadata": {},
   "outputs": [],
   "source": [
    "df.to_csv('gsc_searchanalytics_output.csv', header=True, index=False)"
   ]
  }
 ],
 "metadata": {
  "hide_input": false,
  "kernelspec": {
   "display_name": "Python 3",
   "language": "python",
   "name": "python3"
  },
  "language_info": {
   "codemirror_mode": {
    "name": "ipython",
    "version": 3
   },
   "file_extension": ".py",
   "mimetype": "text/x-python",
   "name": "python",
   "nbconvert_exporter": "python",
   "pygments_lexer": "ipython3",
   "version": "3.7.2"
  }
 },
 "nbformat": 4,
 "nbformat_minor": 2
}
