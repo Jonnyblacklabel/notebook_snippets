{
 "cells": [
  {
   "cell_type": "markdown",
   "metadata": {},
   "source": [
    "# Download Searchanalytics Data\n",
    "Herunterladen von Google Search Console Suchanalyse-Daten mit dem Python Package `searchconsole` [github link](https://github.com/joshcarty/google-searchconsole)"
   ]
  },
  {
   "cell_type": "code",
   "execution_count": null,
   "metadata": {},
   "outputs": [],
   "source": [
    "import searchconsole"
   ]
  },
  {
   "cell_type": "markdown",
   "metadata": {},
   "source": [
    "Verifizieren des API Zugriffs.\n",
    "\n",
    "→ Wenn ihr das Notebook auf Binder.org ausführt, werden eure Credentials natürlich nicht gespeichert!"
   ]
  },
  {
   "cell_type": "markdown",
   "metadata": {},
   "source": [
    "## Authentifizierung - Notebook auf mybinder.org\n",
    "Wenn ihr das Notebook auf mybinder.org ausführt, öffnet die `.authenticate` Methode kein neues Fenster für die Authentifizierung. Ich gehe daher den Umweg über `pydata_google_auth`. "
   ]
  },
  {
   "cell_type": "code",
   "execution_count": null,
   "metadata": {},
   "outputs": [],
   "source": [
    "import json\n",
    "import pydata_google_auth\n",
    "from pydata_google_auth import cache\n",
    "from googleapiclient.discovery import build\n",
    "from searchconsole.account import Account\n",
    "\n",
    "with open('client_secrets.json') as f:\n",
    "    cs = json.load(f)\n",
    "\n",
    "credentials = pydata_google_auth.get_user_credentials(scopes=['https://www.googleapis.com/auth/webmasters.readonly'],\n",
    "                                                      client_id=cs['installed']['client_id'],\n",
    "                                                      client_secret=cs['installed']['client_secret'],\n",
    "                                                      credentials_cache=cache.REAUTH,\n",
    "                                                      auth_local_webserver=False)"
   ]
  },
  {
   "cell_type": "code",
   "execution_count": null,
   "metadata": {},
   "outputs": [],
   "source": [
    "service = build('webmasters', 'v3', credentials=credentials)\n",
    "\n",
    "account = Account(service, credentials)"
   ]
  },
  {
   "cell_type": "markdown",
   "metadata": {},
   "source": [
    "## Authentifizierung - Lokales Notebook\n",
    "Bei einem lokalen Notebook kann einfach fortgefahren werden."
   ]
  },
  {
   "cell_type": "code",
   "execution_count": null,
   "metadata": {},
   "outputs": [],
   "source": [
    "account = searchconsole.authenticate(client_config='client_secrets.json')"
   ]
  },
  {
   "cell_type": "markdown",
   "metadata": {},
   "source": [
    "## Daten abfragen"
   ]
  },
  {
   "cell_type": "markdown",
   "metadata": {},
   "source": [
    "Liste der verifizierten Properties in dem Account"
   ]
  },
  {
   "cell_type": "code",
   "execution_count": null,
   "metadata": {},
   "outputs": [],
   "source": [
    "account.webproperties"
   ]
  },
  {
   "cell_type": "markdown",
   "metadata": {},
   "source": [
    "Webproperty Object mit dem wir den Query erstellen."
   ]
  },
  {
   "cell_type": "code",
   "execution_count": null,
   "metadata": {},
   "outputs": [],
   "source": [
    "webproperty = account['https://www.serienjunkies.de/']"
   ]
  },
  {
   "cell_type": "markdown",
   "metadata": {},
   "source": [
    "Query erstellen und ausführen."
   ]
  },
  {
   "cell_type": "code",
   "execution_count": null,
   "metadata": {},
   "outputs": [],
   "source": [
    "query = webproperty.query.range(start='2019-03-18', stop='2019-03-24') \\\n",
    "    .dimension('query')"
   ]
  },
  {
   "cell_type": "code",
   "execution_count": null,
   "metadata": {},
   "outputs": [],
   "source": [
    "data = query.get()"
   ]
  },
  {
   "cell_type": "markdown",
   "metadata": {},
   "source": [
    "So sieht das ganze als Pandas DataFrame aus. Hiermit kann man nun alles mögliche anstellen."
   ]
  },
  {
   "cell_type": "code",
   "execution_count": null,
   "metadata": {},
   "outputs": [],
   "source": [
    "df = data.to_dataframe()\n",
    "df.head()"
   ]
  },
  {
   "cell_type": "markdown",
   "metadata": {},
   "source": [
    "Eine Abfrage mit Filter."
   ]
  },
  {
   "cell_type": "code",
   "execution_count": null,
   "metadata": {},
   "outputs": [],
   "source": [
    "df = webproperty.query.range(start='2019-03-18', stop='2019-03-24') \\\n",
    "    .dimension('page','query') \\\n",
    "    .filter('page', 'https://www.serienjunkies.de/', 'equals') \\\n",
    "    .get() \\\n",
    "    .to_dataframe()\n",
    "df.head()"
   ]
  },
  {
   "cell_type": "markdown",
   "metadata": {},
   "source": [
    "Export der Daten als CSV. Die Datei sollte heruntergeladen werden können. ✌️😉"
   ]
  },
  {
   "cell_type": "code",
   "execution_count": null,
   "metadata": {},
   "outputs": [],
   "source": [
    "df.to_csv('gsc_searchanalytics_output.csv', header=True, index=False)"
   ]
  }
 ],
 "metadata": {
  "hide_input": false,
  "kernelspec": {
   "display_name": "Python 3",
   "language": "python",
   "name": "python3"
  },
  "language_info": {
   "codemirror_mode": {
    "name": "ipython",
    "version": 3
   },
   "file_extension": ".py",
   "mimetype": "text/x-python",
   "name": "python",
   "nbconvert_exporter": "python",
   "pygments_lexer": "ipython3",
   "version": "3.7.2"
  }
 },
 "nbformat": 4,
 "nbformat_minor": 2
}
