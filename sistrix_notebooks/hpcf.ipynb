{
 "cells": [
  {
   "cell_type": "markdown",
   "metadata": {},
   "source": [
    "# Sistrix HPCF\n",
    "Plot des Anteils an Top 10 Keywords innerhalb der Top 100 einer Domain, bzw. aus einer Liste an Verzeichnissen.\n",
    "## High-Performance-Content-Formate (HPCF)\n",
    "Hier nachzulesen: https://www.sistrix.de/news/high-performance-content-formate/"
   ]
  },
  {
   "cell_type": "code",
   "execution_count": 1,
   "metadata": {
    "tags": [
     "remove_output"
    ]
   },
   "outputs": [],
   "source": [
    "from collections import namedtuple\n",
    "from tqdm import tqdm_notebook\n",
    "import seaborn as sns\n",
    "import pandas as pd\n",
    "import requests\n",
    "import time\n",
    "import os"
   ]
  },
  {
   "cell_type": "markdown",
   "metadata": {},
   "source": [
    "## Einige Variablen setzen\n",
    "Zunächsten setzen wir ein paar Variablen. Wir legen dabei fest, für welches Datum wir die API abfragen wollen. Außerdem setzen wir die Liste an Verzeichnissen die wir abfragen möchten."
   ]
  },
  {
   "cell_type": "code",
   "execution_count": 2,
   "metadata": {},
   "outputs": [],
   "source": [
    "api_url = 'https://api.sistrix.com'\n",
    "\n",
    "sistrix_key = 'hier code eingeben'\n",
    "\n",
    "date = '2019-03-25'\n",
    "\n",
    "paths = ['https://www.urlaubspiraten.de/reisen/',\n",
    "         'https://www.urlaubspiraten.de/urlaub/',\n",
    "         'https://www.urlaubspiraten.de/b/',\n",
    "         'https://www.urlaubspiraten.de/tourismus/',\n",
    "         'https://www.urlaubspiraten.de/hotels/',\n",
    "         'https://gutscheine.urlaubspiraten.de/gutscheincode/',\n",
    "         'https://www.urlaubspiraten.de/reisetipps/',\n",
    "         'https://www.urlaubspiraten.de/fluge/',\n",
    "         'https://www.urlaubspiraten.de/reise-journal/',\n",
    "         'https://www.urlaubspiraten.de/tag/',\n",
    "         'https://www.urlaubspiraten.de/sonstiges/',\n",
    "         'https://www.urlaubspiraten.de/uebernachten/',\n",
    "         'https://www.urlaubspiraten.de/kreuzfahrten/',\n",
    "         'https://www.urlaubspiraten.de/aktuelles/',\n",
    "         'https://www.urlaubspiraten.de/pages/']"
   ]
  },
  {
   "cell_type": "markdown",
   "metadata": {},
   "source": [
    "## Abfrage eines einzelnen Verzeichnisses\n",
    "Um aufzuzeigen, wie wir generell vorgehen, laden wir zunächst nur die Anzahl der Top 100 Keywords für das erste Verzeichnis der Liste. Aus der Antwort extahieren wir die Metriken. Diese können wir einfach in einen DataFrame umwandeln. Normalerweise könnten wir die Antwort auch mittels `pd.io.json.json_normalize()` direkt ein einen DataFrame umwandeln. Jedoch braucht das erstellen eines DataFrames Rechenzeit. Daher wollen wir dies nur einmal ausführen. Vorab sammeln wir die Daten einfach in einer Liste."
   ]
  },
  {
   "cell_type": "markdown",
   "metadata": {},
   "source": [
    "1. Abfragen der API mittels `requests.get()`"
   ]
  },
  {
   "cell_type": "code",
   "execution_count": 3,
   "metadata": {},
   "outputs": [],
   "source": [
    "response = requests.get('/'.join([api_url,'domain.kwcount.seo']),\n",
    "                        params=dict(api_key = sistrix_key,\n",
    "                                    path=paths[0],\n",
    "                                    format='json',\n",
    "                                    daily='true',\n",
    "                                    date=date))"
   ]
  },
  {
   "cell_type": "markdown",
   "metadata": {},
   "source": [
    "2. Response-Object als JSON"
   ]
  },
  {
   "cell_type": "code",
   "execution_count": 4,
   "metadata": {},
   "outputs": [
    {
     "data": {
      "text/plain": [
       "{'method': [['domain.kwcount.seo']],\n",
       " 'answer': [{'kwcount.seo': [{'path': 'https://www.urlaubspiraten.de/reisen/',\n",
       "     'date': '2019-03-25T00:00:00+01:00',\n",
       "     'value': 8694}]}],\n",
       " 'credits': [{'used': 1}]}"
      ]
     },
     "execution_count": 4,
     "metadata": {},
     "output_type": "execute_result"
    }
   ],
   "source": [
    "response.json()"
   ]
  },
  {
   "cell_type": "markdown",
   "metadata": {},
   "source": [
    "3. Ansprechen der Ergebniszeilen"
   ]
  },
  {
   "cell_type": "code",
   "execution_count": 5,
   "metadata": {},
   "outputs": [
    {
     "data": {
      "text/plain": [
       "[{'path': 'https://www.urlaubspiraten.de/reisen/',\n",
       "  'date': '2019-03-25T00:00:00+01:00',\n",
       "  'value': 8694}]"
      ]
     },
     "execution_count": 5,
     "metadata": {},
     "output_type": "execute_result"
    }
   ],
   "source": [
    "data = response.json()['answer'][0]['kwcount.seo']\n",
    "data"
   ]
  },
  {
   "cell_type": "markdown",
   "metadata": {},
   "source": [
    "4. Ergebniszeilen als Namedtuple"
   ]
  },
  {
   "cell_type": "code",
   "execution_count": 6,
   "metadata": {},
   "outputs": [
    {
     "data": {
      "text/plain": [
       "[Top100(path='https://www.urlaubspiraten.de/reisen/', date='2019-03-25T00:00:00+01:00', top100=8694)]"
      ]
     },
     "execution_count": 6,
     "metadata": {},
     "output_type": "execute_result"
    }
   ],
   "source": [
    "Top100 = namedtuple('Top100', ['path','date','top100'], rename=True)\n",
    "[Top100(*row.values()) for row in data]"
   ]
  },
  {
   "cell_type": "markdown",
   "metadata": {},
   "source": [
    "### Beispiel für `json_normalize`\n",
    "Folgend ein Beispiel, wie wir das JSON direkt als DataFrame normalisieren können. "
   ]
  },
  {
   "cell_type": "code",
   "execution_count": 7,
   "metadata": {},
   "outputs": [
    {
     "data": {
      "text/html": [
       "<div>\n",
       "<style scoped>\n",
       "    .dataframe tbody tr th:only-of-type {\n",
       "        vertical-align: middle;\n",
       "    }\n",
       "\n",
       "    .dataframe tbody tr th {\n",
       "        vertical-align: top;\n",
       "    }\n",
       "\n",
       "    .dataframe thead th {\n",
       "        text-align: right;\n",
       "    }\n",
       "</style>\n",
       "<table border=\"1\" class=\"dataframe\">\n",
       "  <thead>\n",
       "    <tr style=\"text-align: right;\">\n",
       "      <th></th>\n",
       "      <th></th>\n",
       "      <th>top100</th>\n",
       "    </tr>\n",
       "    <tr>\n",
       "      <th>date</th>\n",
       "      <th>path</th>\n",
       "      <th></th>\n",
       "    </tr>\n",
       "  </thead>\n",
       "  <tbody>\n",
       "    <tr>\n",
       "      <th>2019-03-25 00:00:00+01:00</th>\n",
       "      <th>https://www.urlaubspiraten.de/reisen/</th>\n",
       "      <td>8694</td>\n",
       "    </tr>\n",
       "  </tbody>\n",
       "</table>\n",
       "</div>"
      ],
      "text/plain": [
       "                                                                 top100\n",
       "date                      path                                         \n",
       "2019-03-25 00:00:00+01:00 https://www.urlaubspiraten.de/reisen/    8694"
      ]
     },
     "execution_count": 7,
     "metadata": {},
     "output_type": "execute_result"
    }
   ],
   "source": [
    "pd.io.json.json_normalize(response.json()['answer'], ['kwcount.seo']) \\\n",
    "    .rename({'value':'top100'}, axis='columns') \\\n",
    "    .assign(date = lambda x: pd.to_datetime(x['date'])) \\\n",
    "    .set_index(['date','path'])"
   ]
  },
  {
   "cell_type": "markdown",
   "metadata": {},
   "source": [
    "## Funktionen zur API Abfrage"
   ]
  },
  {
   "cell_type": "code",
   "execution_count": 16,
   "metadata": {},
   "outputs": [],
   "source": [
    "def call_api(path, date, endpoint):\n",
    "    try:\n",
    "        response = requests.get('/'.join([api_url,'domain.'+endpoint]),\n",
    "                                params=dict(api_key = sistrix_key,\n",
    "                                            path=path,\n",
    "                                            format='json',\n",
    "                                            daily='true',\n",
    "                                            date=date))\n",
    "        return response.json()['answer'][0][endpoint]\n",
    "    except KeyError as e:\n",
    "        print(f'No answer for {path} for {endpoint}')\n",
    "        \n",
    "        \n",
    "def top_100(path, date):\n",
    "    Top100 = namedtuple('Top100', ['path','date','top100'], rename=True)\n",
    "    data = call_api(path, date, 'kwcount.seo')\n",
    "    if data:\n",
    "        return [Top100(*row.values()) for row in data]\n",
    "\n",
    "        \n",
    "def top_10(path, date):\n",
    "    Top10 = namedtuple('Top10', ['path','date','top10'], rename=True)\n",
    "    data = call_api(path, date, 'kwcount.seo.top10')\n",
    "    if data:\n",
    "        return [Top10(*row.values()) for row in data]\n",
    "        \n",
    "    \n",
    "def sichtbarkeitsindex(path, date):\n",
    "    Sichtbarkeitsindex = namedtuple('Sichtbarkeitsindex', ['path','date','sichtbarkeitsindex'], rename=True)\n",
    "    data = call_api(path, date, 'sichtbarkeitsindex')\n",
    "    if data:\n",
    "        return [Sichtbarkeitsindex(*row.values()) for row in data]"
   ]
  },
  {
   "cell_type": "markdown",
   "metadata": {},
   "source": [
    "## Abfrage der Daten für alle Verzeichnisse"
   ]
  },
  {
   "cell_type": "code",
   "execution_count": 17,
   "metadata": {},
   "outputs": [
    {
     "data": {
      "application/vnd.jupyter.widget-view+json": {
       "model_id": "504b93894ee44281b5abfa39e8ab2dbd",
       "version_major": 2,
       "version_minor": 0
      },
      "text/plain": [
       "HBox(children=(IntProgress(value=0, max=15), HTML(value='')))"
      ]
     },
     "metadata": {},
     "output_type": "display_data"
    },
    {
     "name": "stdout",
     "output_type": "stream",
     "text": [
      "\n"
     ]
    },
    {
     "data": {
      "text/plain": [
       "[Top100(path='https://www.urlaubspiraten.de/reisen/', date='2019-03-25T00:00:00+01:00', top100=8694),\n",
       " Top100(path='https://www.urlaubspiraten.de/urlaub/', date='2019-03-25T00:00:00+01:00', top100=7147),\n",
       " Top100(path='https://www.urlaubspiraten.de/b/', date='2019-03-25T00:00:00+01:00', top100=3871),\n",
       " Top100(path='https://www.urlaubspiraten.de/tourismus/', date='2019-03-25T00:00:00+01:00', top100=1351),\n",
       " Top100(path='https://www.urlaubspiraten.de/hotels/', date='2019-03-25T00:00:00+01:00', top100=357),\n",
       " Top100(path='https://gutscheine.urlaubspiraten.de/gutscheincode/', date='2019-03-25T00:00:00+01:00', top100=347),\n",
       " Top100(path='https://www.urlaubspiraten.de/reisetipps/', date='2019-03-25T00:00:00+01:00', top100=257),\n",
       " Top100(path='https://www.urlaubspiraten.de/fluge/', date='2019-03-25T00:00:00+01:00', top100=241),\n",
       " Top100(path='https://www.urlaubspiraten.de/reise-journal/', date='2019-03-25T00:00:00+01:00', top100=227),\n",
       " Top100(path='https://www.urlaubspiraten.de/tag/', date='2019-03-25T00:00:00+01:00', top100=195),\n",
       " Top100(path='https://www.urlaubspiraten.de/sonstiges/', date='2019-03-25T00:00:00+01:00', top100=126),\n",
       " Top100(path='https://www.urlaubspiraten.de/uebernachten/', date='2019-03-25T00:00:00+01:00', top100=101),\n",
       " Top100(path='https://www.urlaubspiraten.de/kreuzfahrten/', date='2019-03-25T00:00:00+01:00', top100=42),\n",
       " Top100(path='https://www.urlaubspiraten.de/aktuelles/', date='2019-03-25T00:00:00+01:00', top100=39),\n",
       " Top100(path='https://www.urlaubspiraten.de/pages/', date='2019-03-25T00:00:00+01:00', top100=6)]"
      ]
     },
     "execution_count": 17,
     "metadata": {},
     "output_type": "execute_result"
    }
   ],
   "source": [
    "all_top_100 = []\n",
    "for path in tqdm_notebook(paths):\n",
    "    data = top_100(path, date)\n",
    "    if data:\n",
    "        all_top_100.extend(data)\n",
    "    time.sleep(.4)\n",
    "all_top_100"
   ]
  },
  {
   "cell_type": "code",
   "execution_count": 18,
   "metadata": {},
   "outputs": [
    {
     "data": {
      "application/vnd.jupyter.widget-view+json": {
       "model_id": "114d4b38f3ac4ee782c9c7a980eb9302",
       "version_major": 2,
       "version_minor": 0
      },
      "text/plain": [
       "HBox(children=(IntProgress(value=0, max=15), HTML(value='')))"
      ]
     },
     "metadata": {},
     "output_type": "display_data"
    },
    {
     "name": "stdout",
     "output_type": "stream",
     "text": [
      "No answer for https://www.urlaubspiraten.de/kreuzfahrten/ for kwcount.seo.top10\n",
      "No answer for https://www.urlaubspiraten.de/pages/ for kwcount.seo.top10\n",
      "\n"
     ]
    },
    {
     "data": {
      "text/plain": [
       "[Top10(path='https://www.urlaubspiraten.de/reisen/', date='2019-03-25T00:00:00+01:00', top10=2302),\n",
       " Top10(path='https://www.urlaubspiraten.de/urlaub/', date='2019-03-25T00:00:00+01:00', top10=1334),\n",
       " Top10(path='https://www.urlaubspiraten.de/b/', date='2019-03-25T00:00:00+01:00', top10=66),\n",
       " Top10(path='https://www.urlaubspiraten.de/tourismus/', date='2019-03-25T00:00:00+01:00', top10=174),\n",
       " Top10(path='https://www.urlaubspiraten.de/hotels/', date='2019-03-25T00:00:00+01:00', top10=14),\n",
       " Top10(path='https://gutscheine.urlaubspiraten.de/gutscheincode/', date='2019-03-25T00:00:00+01:00', top10=88),\n",
       " Top10(path='https://www.urlaubspiraten.de/reisetipps/', date='2019-03-25T00:00:00+01:00', top10=20),\n",
       " Top10(path='https://www.urlaubspiraten.de/fluge/', date='2019-03-25T00:00:00+01:00', top10=4),\n",
       " Top10(path='https://www.urlaubspiraten.de/reise-journal/', date='2019-03-25T00:00:00+01:00', top10=25),\n",
       " Top10(path='https://www.urlaubspiraten.de/tag/', date='2019-03-25T00:00:00+01:00', top10=29),\n",
       " Top10(path='https://www.urlaubspiraten.de/sonstiges/', date='2019-03-25T00:00:00+01:00', top10=7),\n",
       " Top10(path='https://www.urlaubspiraten.de/uebernachten/', date='2019-03-25T00:00:00+01:00', top10=12),\n",
       " Top10(path='https://www.urlaubspiraten.de/aktuelles/', date='2019-03-25T00:00:00+01:00', top10=1)]"
      ]
     },
     "execution_count": 18,
     "metadata": {},
     "output_type": "execute_result"
    }
   ],
   "source": [
    "all_top_10 = []\n",
    "for path in tqdm_notebook(paths):\n",
    "    data = top_10(path, date)\n",
    "    if data:\n",
    "        all_top_10.extend(data)\n",
    "    time.sleep(.4)\n",
    "all_top_10"
   ]
  },
  {
   "cell_type": "code",
   "execution_count": 19,
   "metadata": {},
   "outputs": [
    {
     "data": {
      "application/vnd.jupyter.widget-view+json": {
       "model_id": "e41dbf313d9a45998d915292badcaf26",
       "version_major": 2,
       "version_minor": 0
      },
      "text/plain": [
       "HBox(children=(IntProgress(value=0, max=15), HTML(value='')))"
      ]
     },
     "metadata": {},
     "output_type": "display_data"
    },
    {
     "name": "stdout",
     "output_type": "stream",
     "text": [
      "\n"
     ]
    },
    {
     "data": {
      "text/plain": [
       "[Sichtbarkeitsindex(path='https://www.urlaubspiraten.de/reisen/', date='2019-03-25T00:00:00+01:00', sichtbarkeitsindex=13.2644),\n",
       " Sichtbarkeitsindex(path='https://www.urlaubspiraten.de/urlaub/', date='2019-03-25T00:00:00+01:00', sichtbarkeitsindex=14.5425),\n",
       " Sichtbarkeitsindex(path='https://www.urlaubspiraten.de/b/', date='2019-03-25T00:00:00+01:00', sichtbarkeitsindex=2.0499),\n",
       " Sichtbarkeitsindex(path='https://www.urlaubspiraten.de/tourismus/', date='2019-03-25T00:00:00+01:00', sichtbarkeitsindex=5.4202),\n",
       " Sichtbarkeitsindex(path='https://www.urlaubspiraten.de/hotels/', date='2019-03-25T00:00:00+01:00', sichtbarkeitsindex=0.0517),\n",
       " Sichtbarkeitsindex(path='https://gutscheine.urlaubspiraten.de/gutscheincode/', date='2019-03-25T00:00:00+01:00', sichtbarkeitsindex=0.0211),\n",
       " Sichtbarkeitsindex(path='https://www.urlaubspiraten.de/reisetipps/', date='2019-03-25T00:00:00+01:00', sichtbarkeitsindex=0.0449),\n",
       " Sichtbarkeitsindex(path='https://www.urlaubspiraten.de/fluge/', date='2019-03-25T00:00:00+01:00', sichtbarkeitsindex=0.0179),\n",
       " Sichtbarkeitsindex(path='https://www.urlaubspiraten.de/reise-journal/', date='2019-03-25T00:00:00+01:00', sichtbarkeitsindex=0.0122),\n",
       " Sichtbarkeitsindex(path='https://www.urlaubspiraten.de/tag/', date='2019-03-25T00:00:00+01:00', sichtbarkeitsindex=0.1364),\n",
       " Sichtbarkeitsindex(path='https://www.urlaubspiraten.de/sonstiges/', date='2019-03-25T00:00:00+01:00', sichtbarkeitsindex=0.0056),\n",
       " Sichtbarkeitsindex(path='https://www.urlaubspiraten.de/uebernachten/', date='2019-03-25T00:00:00+01:00', sichtbarkeitsindex=0.1202),\n",
       " Sichtbarkeitsindex(path='https://www.urlaubspiraten.de/kreuzfahrten/', date='2019-03-25T00:00:00+01:00', sichtbarkeitsindex=0.0022),\n",
       " Sichtbarkeitsindex(path='https://www.urlaubspiraten.de/aktuelles/', date='2019-03-25T00:00:00+01:00', sichtbarkeitsindex=0.0023),\n",
       " Sichtbarkeitsindex(path='https://www.urlaubspiraten.de/pages/', date='2019-03-25T00:00:00+01:00', sichtbarkeitsindex=0.0066)]"
      ]
     },
     "execution_count": 19,
     "metadata": {},
     "output_type": "execute_result"
    }
   ],
   "source": [
    "all_si = []\n",
    "for path in tqdm_notebook(paths):\n",
    "    data = sichtbarkeitsindex(path, date)\n",
    "    if data:\n",
    "        all_si.extend(data)\n",
    "    time.sleep(.4)\n",
    "all_si"
   ]
  },
  {
   "cell_type": "markdown",
   "metadata": {},
   "source": [
    "## Erstellen des DataFrame"
   ]
  },
  {
   "cell_type": "code",
   "execution_count": 20,
   "metadata": {},
   "outputs": [
    {
     "data": {
      "text/html": [
       "<div>\n",
       "<style scoped>\n",
       "    .dataframe tbody tr th:only-of-type {\n",
       "        vertical-align: middle;\n",
       "    }\n",
       "\n",
       "    .dataframe tbody tr th {\n",
       "        vertical-align: top;\n",
       "    }\n",
       "\n",
       "    .dataframe thead th {\n",
       "        text-align: right;\n",
       "    }\n",
       "</style>\n",
       "<table border=\"1\" class=\"dataframe\">\n",
       "  <thead>\n",
       "    <tr style=\"text-align: right;\">\n",
       "      <th></th>\n",
       "      <th>path</th>\n",
       "      <th>top100</th>\n",
       "      <th>top10</th>\n",
       "      <th>sichtbarkeitsindex</th>\n",
       "    </tr>\n",
       "    <tr>\n",
       "      <th>date</th>\n",
       "      <th></th>\n",
       "      <th></th>\n",
       "      <th></th>\n",
       "      <th></th>\n",
       "    </tr>\n",
       "  </thead>\n",
       "  <tbody>\n",
       "    <tr>\n",
       "      <th>2019-03-25T00:00:00+01:00</th>\n",
       "      <td>https://gutscheine.urlaubspiraten.de/gutschein...</td>\n",
       "      <td>347</td>\n",
       "      <td>88.0</td>\n",
       "      <td>0.0211</td>\n",
       "    </tr>\n",
       "    <tr>\n",
       "      <th>2019-03-25T00:00:00+01:00</th>\n",
       "      <td>https://www.urlaubspiraten.de/aktuelles/</td>\n",
       "      <td>39</td>\n",
       "      <td>1.0</td>\n",
       "      <td>0.0023</td>\n",
       "    </tr>\n",
       "    <tr>\n",
       "      <th>2019-03-25T00:00:00+01:00</th>\n",
       "      <td>https://www.urlaubspiraten.de/b/</td>\n",
       "      <td>3871</td>\n",
       "      <td>66.0</td>\n",
       "      <td>2.0499</td>\n",
       "    </tr>\n",
       "    <tr>\n",
       "      <th>2019-03-25T00:00:00+01:00</th>\n",
       "      <td>https://www.urlaubspiraten.de/fluge/</td>\n",
       "      <td>241</td>\n",
       "      <td>4.0</td>\n",
       "      <td>0.0179</td>\n",
       "    </tr>\n",
       "    <tr>\n",
       "      <th>2019-03-25T00:00:00+01:00</th>\n",
       "      <td>https://www.urlaubspiraten.de/hotels/</td>\n",
       "      <td>357</td>\n",
       "      <td>14.0</td>\n",
       "      <td>0.0517</td>\n",
       "    </tr>\n",
       "    <tr>\n",
       "      <th>2019-03-25T00:00:00+01:00</th>\n",
       "      <td>https://www.urlaubspiraten.de/kreuzfahrten/</td>\n",
       "      <td>42</td>\n",
       "      <td>NaN</td>\n",
       "      <td>0.0022</td>\n",
       "    </tr>\n",
       "    <tr>\n",
       "      <th>2019-03-25T00:00:00+01:00</th>\n",
       "      <td>https://www.urlaubspiraten.de/pages/</td>\n",
       "      <td>6</td>\n",
       "      <td>NaN</td>\n",
       "      <td>0.0066</td>\n",
       "    </tr>\n",
       "    <tr>\n",
       "      <th>2019-03-25T00:00:00+01:00</th>\n",
       "      <td>https://www.urlaubspiraten.de/reise-journal/</td>\n",
       "      <td>227</td>\n",
       "      <td>25.0</td>\n",
       "      <td>0.0122</td>\n",
       "    </tr>\n",
       "    <tr>\n",
       "      <th>2019-03-25T00:00:00+01:00</th>\n",
       "      <td>https://www.urlaubspiraten.de/reisen/</td>\n",
       "      <td>8694</td>\n",
       "      <td>2302.0</td>\n",
       "      <td>13.2644</td>\n",
       "    </tr>\n",
       "    <tr>\n",
       "      <th>2019-03-25T00:00:00+01:00</th>\n",
       "      <td>https://www.urlaubspiraten.de/reisetipps/</td>\n",
       "      <td>257</td>\n",
       "      <td>20.0</td>\n",
       "      <td>0.0449</td>\n",
       "    </tr>\n",
       "    <tr>\n",
       "      <th>2019-03-25T00:00:00+01:00</th>\n",
       "      <td>https://www.urlaubspiraten.de/sonstiges/</td>\n",
       "      <td>126</td>\n",
       "      <td>7.0</td>\n",
       "      <td>0.0056</td>\n",
       "    </tr>\n",
       "    <tr>\n",
       "      <th>2019-03-25T00:00:00+01:00</th>\n",
       "      <td>https://www.urlaubspiraten.de/tag/</td>\n",
       "      <td>195</td>\n",
       "      <td>29.0</td>\n",
       "      <td>0.1364</td>\n",
       "    </tr>\n",
       "    <tr>\n",
       "      <th>2019-03-25T00:00:00+01:00</th>\n",
       "      <td>https://www.urlaubspiraten.de/tourismus/</td>\n",
       "      <td>1351</td>\n",
       "      <td>174.0</td>\n",
       "      <td>5.4202</td>\n",
       "    </tr>\n",
       "    <tr>\n",
       "      <th>2019-03-25T00:00:00+01:00</th>\n",
       "      <td>https://www.urlaubspiraten.de/uebernachten/</td>\n",
       "      <td>101</td>\n",
       "      <td>12.0</td>\n",
       "      <td>0.1202</td>\n",
       "    </tr>\n",
       "    <tr>\n",
       "      <th>2019-03-25T00:00:00+01:00</th>\n",
       "      <td>https://www.urlaubspiraten.de/urlaub/</td>\n",
       "      <td>7147</td>\n",
       "      <td>1334.0</td>\n",
       "      <td>14.5425</td>\n",
       "    </tr>\n",
       "  </tbody>\n",
       "</table>\n",
       "</div>"
      ],
      "text/plain": [
       "                                                                        path  \\\n",
       "date                                                                           \n",
       "2019-03-25T00:00:00+01:00  https://gutscheine.urlaubspiraten.de/gutschein...   \n",
       "2019-03-25T00:00:00+01:00           https://www.urlaubspiraten.de/aktuelles/   \n",
       "2019-03-25T00:00:00+01:00                   https://www.urlaubspiraten.de/b/   \n",
       "2019-03-25T00:00:00+01:00               https://www.urlaubspiraten.de/fluge/   \n",
       "2019-03-25T00:00:00+01:00              https://www.urlaubspiraten.de/hotels/   \n",
       "2019-03-25T00:00:00+01:00        https://www.urlaubspiraten.de/kreuzfahrten/   \n",
       "2019-03-25T00:00:00+01:00               https://www.urlaubspiraten.de/pages/   \n",
       "2019-03-25T00:00:00+01:00       https://www.urlaubspiraten.de/reise-journal/   \n",
       "2019-03-25T00:00:00+01:00              https://www.urlaubspiraten.de/reisen/   \n",
       "2019-03-25T00:00:00+01:00          https://www.urlaubspiraten.de/reisetipps/   \n",
       "2019-03-25T00:00:00+01:00           https://www.urlaubspiraten.de/sonstiges/   \n",
       "2019-03-25T00:00:00+01:00                 https://www.urlaubspiraten.de/tag/   \n",
       "2019-03-25T00:00:00+01:00           https://www.urlaubspiraten.de/tourismus/   \n",
       "2019-03-25T00:00:00+01:00        https://www.urlaubspiraten.de/uebernachten/   \n",
       "2019-03-25T00:00:00+01:00              https://www.urlaubspiraten.de/urlaub/   \n",
       "\n",
       "                           top100   top10  sichtbarkeitsindex  \n",
       "date                                                           \n",
       "2019-03-25T00:00:00+01:00     347    88.0              0.0211  \n",
       "2019-03-25T00:00:00+01:00      39     1.0              0.0023  \n",
       "2019-03-25T00:00:00+01:00    3871    66.0              2.0499  \n",
       "2019-03-25T00:00:00+01:00     241     4.0              0.0179  \n",
       "2019-03-25T00:00:00+01:00     357    14.0              0.0517  \n",
       "2019-03-25T00:00:00+01:00      42     NaN              0.0022  \n",
       "2019-03-25T00:00:00+01:00       6     NaN              0.0066  \n",
       "2019-03-25T00:00:00+01:00     227    25.0              0.0122  \n",
       "2019-03-25T00:00:00+01:00    8694  2302.0             13.2644  \n",
       "2019-03-25T00:00:00+01:00     257    20.0              0.0449  \n",
       "2019-03-25T00:00:00+01:00     126     7.0              0.0056  \n",
       "2019-03-25T00:00:00+01:00     195    29.0              0.1364  \n",
       "2019-03-25T00:00:00+01:00    1351   174.0              5.4202  \n",
       "2019-03-25T00:00:00+01:00     101    12.0              0.1202  \n",
       "2019-03-25T00:00:00+01:00    7147  1334.0             14.5425  "
      ]
     },
     "execution_count": 20,
     "metadata": {},
     "output_type": "execute_result"
    }
   ],
   "source": [
    "df = pd.concat([pd.DataFrame(all_top_100).set_index(['date','path']),\n",
    "               pd.DataFrame(all_top_10).set_index(['date','path']),\n",
    "               pd.DataFrame(all_si).set_index(['date','path'])],\n",
    "              axis=1, join='outer', sort=True) \\\n",
    "    .reset_index(level=1)\n",
    "df"
   ]
  },
  {
   "cell_type": "markdown",
   "metadata": {},
   "source": [
    "### Errechnen des prozentualen Anteils an Top 10 Keywords"
   ]
  },
  {
   "cell_type": "code",
   "execution_count": 21,
   "metadata": {},
   "outputs": [
    {
     "data": {
      "text/html": [
       "<div>\n",
       "<style scoped>\n",
       "    .dataframe tbody tr th:only-of-type {\n",
       "        vertical-align: middle;\n",
       "    }\n",
       "\n",
       "    .dataframe tbody tr th {\n",
       "        vertical-align: top;\n",
       "    }\n",
       "\n",
       "    .dataframe thead th {\n",
       "        text-align: right;\n",
       "    }\n",
       "</style>\n",
       "<table border=\"1\" class=\"dataframe\">\n",
       "  <thead>\n",
       "    <tr style=\"text-align: right;\">\n",
       "      <th></th>\n",
       "      <th>path</th>\n",
       "      <th>top100</th>\n",
       "      <th>top10</th>\n",
       "      <th>sichtbarkeitsindex</th>\n",
       "      <th>pct_top10</th>\n",
       "    </tr>\n",
       "    <tr>\n",
       "      <th>date</th>\n",
       "      <th></th>\n",
       "      <th></th>\n",
       "      <th></th>\n",
       "      <th></th>\n",
       "      <th></th>\n",
       "    </tr>\n",
       "  </thead>\n",
       "  <tbody>\n",
       "    <tr>\n",
       "      <th>2019-03-25T00:00:00+01:00</th>\n",
       "      <td>https://gutscheine.urlaubspiraten.de/gutschein...</td>\n",
       "      <td>347</td>\n",
       "      <td>88.0</td>\n",
       "      <td>0.0211</td>\n",
       "      <td>0.253602</td>\n",
       "    </tr>\n",
       "    <tr>\n",
       "      <th>2019-03-25T00:00:00+01:00</th>\n",
       "      <td>https://www.urlaubspiraten.de/aktuelles/</td>\n",
       "      <td>39</td>\n",
       "      <td>1.0</td>\n",
       "      <td>0.0023</td>\n",
       "      <td>0.025641</td>\n",
       "    </tr>\n",
       "    <tr>\n",
       "      <th>2019-03-25T00:00:00+01:00</th>\n",
       "      <td>https://www.urlaubspiraten.de/b/</td>\n",
       "      <td>3871</td>\n",
       "      <td>66.0</td>\n",
       "      <td>2.0499</td>\n",
       "      <td>0.017050</td>\n",
       "    </tr>\n",
       "    <tr>\n",
       "      <th>2019-03-25T00:00:00+01:00</th>\n",
       "      <td>https://www.urlaubspiraten.de/fluge/</td>\n",
       "      <td>241</td>\n",
       "      <td>4.0</td>\n",
       "      <td>0.0179</td>\n",
       "      <td>0.016598</td>\n",
       "    </tr>\n",
       "    <tr>\n",
       "      <th>2019-03-25T00:00:00+01:00</th>\n",
       "      <td>https://www.urlaubspiraten.de/hotels/</td>\n",
       "      <td>357</td>\n",
       "      <td>14.0</td>\n",
       "      <td>0.0517</td>\n",
       "      <td>0.039216</td>\n",
       "    </tr>\n",
       "  </tbody>\n",
       "</table>\n",
       "</div>"
      ],
      "text/plain": [
       "                                                                        path  \\\n",
       "date                                                                           \n",
       "2019-03-25T00:00:00+01:00  https://gutscheine.urlaubspiraten.de/gutschein...   \n",
       "2019-03-25T00:00:00+01:00           https://www.urlaubspiraten.de/aktuelles/   \n",
       "2019-03-25T00:00:00+01:00                   https://www.urlaubspiraten.de/b/   \n",
       "2019-03-25T00:00:00+01:00               https://www.urlaubspiraten.de/fluge/   \n",
       "2019-03-25T00:00:00+01:00              https://www.urlaubspiraten.de/hotels/   \n",
       "\n",
       "                           top100  top10  sichtbarkeitsindex  pct_top10  \n",
       "date                                                                     \n",
       "2019-03-25T00:00:00+01:00     347   88.0              0.0211   0.253602  \n",
       "2019-03-25T00:00:00+01:00      39    1.0              0.0023   0.025641  \n",
       "2019-03-25T00:00:00+01:00    3871   66.0              2.0499   0.017050  \n",
       "2019-03-25T00:00:00+01:00     241    4.0              0.0179   0.016598  \n",
       "2019-03-25T00:00:00+01:00     357   14.0              0.0517   0.039216  "
      ]
     },
     "execution_count": 21,
     "metadata": {},
     "output_type": "execute_result"
    }
   ],
   "source": [
    "df['pct_top10'] = df['top10'] / df['top100']\n",
    "df.head()"
   ]
  },
  {
   "cell_type": "markdown",
   "metadata": {},
   "source": [
    "## Plotten der Daten"
   ]
  },
  {
   "cell_type": "code",
   "execution_count": 22,
   "metadata": {},
   "outputs": [
    {
     "data": {
      "image/png": "[encoded data removed]",
      "text/plain": [
       "<Figure size 1296x576 with 1 Axes>"
      ]
     },
     "metadata": {},
     "output_type": "display_data"
    }
   ],
   "source": [
    "sns.set(rc={'figure.figsize':(18,8),\n",
    "            'axes.titlesize':22,\n",
    "            'axes.titlepad':18,\n",
    "            'figure.constrained_layout.use':True})\n",
    "\n",
    "ax = sns.scatterplot(x='pct_top10', y='top100', data=df,\n",
    "                     hue='path', size='sichtbarkeitsindex',\n",
    "                     sizes=(50,200))\n",
    "legend = ax.legend(loc='center left', bbox_to_anchor=(1, .5))\n",
    "title = ax.set_title('Anteil Top 10 der Verzeichnisse', ha='left', x=0)"
   ]
  },
  {
   "cell_type": "markdown",
   "metadata": {},
   "source": [
    "Und so sieht der DataFrame als Tabelle aus:"
   ]
  },
  {
   "cell_type": "code",
   "execution_count": 23,
   "metadata": {},
   "outputs": [
    {
     "data": {
      "text/html": [
       "<div>\n",
       "<style scoped>\n",
       "    .dataframe tbody tr th:only-of-type {\n",
       "        vertical-align: middle;\n",
       "    }\n",
       "\n",
       "    .dataframe tbody tr th {\n",
       "        vertical-align: top;\n",
       "    }\n",
       "\n",
       "    .dataframe thead th {\n",
       "        text-align: right;\n",
       "    }\n",
       "</style>\n",
       "<table border=\"1\" class=\"dataframe\">\n",
       "  <thead>\n",
       "    <tr style=\"text-align: right;\">\n",
       "      <th></th>\n",
       "      <th>path</th>\n",
       "      <th>top100</th>\n",
       "      <th>top10</th>\n",
       "      <th>sichtbarkeitsindex</th>\n",
       "      <th>pct_top10</th>\n",
       "    </tr>\n",
       "    <tr>\n",
       "      <th>date</th>\n",
       "      <th></th>\n",
       "      <th></th>\n",
       "      <th></th>\n",
       "      <th></th>\n",
       "      <th></th>\n",
       "    </tr>\n",
       "  </thead>\n",
       "  <tbody>\n",
       "    <tr>\n",
       "      <th>2019-03-25T00:00:00+01:00</th>\n",
       "      <td>https://www.urlaubspiraten.de/reisen/</td>\n",
       "      <td>8694</td>\n",
       "      <td>2302.0</td>\n",
       "      <td>13.2644</td>\n",
       "      <td>0.264780</td>\n",
       "    </tr>\n",
       "    <tr>\n",
       "      <th>2019-03-25T00:00:00+01:00</th>\n",
       "      <td>https://gutscheine.urlaubspiraten.de/gutschein...</td>\n",
       "      <td>347</td>\n",
       "      <td>88.0</td>\n",
       "      <td>0.0211</td>\n",
       "      <td>0.253602</td>\n",
       "    </tr>\n",
       "    <tr>\n",
       "      <th>2019-03-25T00:00:00+01:00</th>\n",
       "      <td>https://www.urlaubspiraten.de/urlaub/</td>\n",
       "      <td>7147</td>\n",
       "      <td>1334.0</td>\n",
       "      <td>14.5425</td>\n",
       "      <td>0.186652</td>\n",
       "    </tr>\n",
       "    <tr>\n",
       "      <th>2019-03-25T00:00:00+01:00</th>\n",
       "      <td>https://www.urlaubspiraten.de/tag/</td>\n",
       "      <td>195</td>\n",
       "      <td>29.0</td>\n",
       "      <td>0.1364</td>\n",
       "      <td>0.148718</td>\n",
       "    </tr>\n",
       "    <tr>\n",
       "      <th>2019-03-25T00:00:00+01:00</th>\n",
       "      <td>https://www.urlaubspiraten.de/tourismus/</td>\n",
       "      <td>1351</td>\n",
       "      <td>174.0</td>\n",
       "      <td>5.4202</td>\n",
       "      <td>0.128793</td>\n",
       "    </tr>\n",
       "    <tr>\n",
       "      <th>2019-03-25T00:00:00+01:00</th>\n",
       "      <td>https://www.urlaubspiraten.de/uebernachten/</td>\n",
       "      <td>101</td>\n",
       "      <td>12.0</td>\n",
       "      <td>0.1202</td>\n",
       "      <td>0.118812</td>\n",
       "    </tr>\n",
       "    <tr>\n",
       "      <th>2019-03-25T00:00:00+01:00</th>\n",
       "      <td>https://www.urlaubspiraten.de/reise-journal/</td>\n",
       "      <td>227</td>\n",
       "      <td>25.0</td>\n",
       "      <td>0.0122</td>\n",
       "      <td>0.110132</td>\n",
       "    </tr>\n",
       "    <tr>\n",
       "      <th>2019-03-25T00:00:00+01:00</th>\n",
       "      <td>https://www.urlaubspiraten.de/reisetipps/</td>\n",
       "      <td>257</td>\n",
       "      <td>20.0</td>\n",
       "      <td>0.0449</td>\n",
       "      <td>0.077821</td>\n",
       "    </tr>\n",
       "    <tr>\n",
       "      <th>2019-03-25T00:00:00+01:00</th>\n",
       "      <td>https://www.urlaubspiraten.de/sonstiges/</td>\n",
       "      <td>126</td>\n",
       "      <td>7.0</td>\n",
       "      <td>0.0056</td>\n",
       "      <td>0.055556</td>\n",
       "    </tr>\n",
       "    <tr>\n",
       "      <th>2019-03-25T00:00:00+01:00</th>\n",
       "      <td>https://www.urlaubspiraten.de/hotels/</td>\n",
       "      <td>357</td>\n",
       "      <td>14.0</td>\n",
       "      <td>0.0517</td>\n",
       "      <td>0.039216</td>\n",
       "    </tr>\n",
       "    <tr>\n",
       "      <th>2019-03-25T00:00:00+01:00</th>\n",
       "      <td>https://www.urlaubspiraten.de/aktuelles/</td>\n",
       "      <td>39</td>\n",
       "      <td>1.0</td>\n",
       "      <td>0.0023</td>\n",
       "      <td>0.025641</td>\n",
       "    </tr>\n",
       "    <tr>\n",
       "      <th>2019-03-25T00:00:00+01:00</th>\n",
       "      <td>https://www.urlaubspiraten.de/b/</td>\n",
       "      <td>3871</td>\n",
       "      <td>66.0</td>\n",
       "      <td>2.0499</td>\n",
       "      <td>0.017050</td>\n",
       "    </tr>\n",
       "    <tr>\n",
       "      <th>2019-03-25T00:00:00+01:00</th>\n",
       "      <td>https://www.urlaubspiraten.de/fluge/</td>\n",
       "      <td>241</td>\n",
       "      <td>4.0</td>\n",
       "      <td>0.0179</td>\n",
       "      <td>0.016598</td>\n",
       "    </tr>\n",
       "    <tr>\n",
       "      <th>2019-03-25T00:00:00+01:00</th>\n",
       "      <td>https://www.urlaubspiraten.de/kreuzfahrten/</td>\n",
       "      <td>42</td>\n",
       "      <td>NaN</td>\n",
       "      <td>0.0022</td>\n",
       "      <td>NaN</td>\n",
       "    </tr>\n",
       "    <tr>\n",
       "      <th>2019-03-25T00:00:00+01:00</th>\n",
       "      <td>https://www.urlaubspiraten.de/pages/</td>\n",
       "      <td>6</td>\n",
       "      <td>NaN</td>\n",
       "      <td>0.0066</td>\n",
       "      <td>NaN</td>\n",
       "    </tr>\n",
       "  </tbody>\n",
       "</table>\n",
       "</div>"
      ],
      "text/plain": [
       "                                                                        path  \\\n",
       "date                                                                           \n",
       "2019-03-25T00:00:00+01:00              https://www.urlaubspiraten.de/reisen/   \n",
       "2019-03-25T00:00:00+01:00  https://gutscheine.urlaubspiraten.de/gutschein...   \n",
       "2019-03-25T00:00:00+01:00              https://www.urlaubspiraten.de/urlaub/   \n",
       "2019-03-25T00:00:00+01:00                 https://www.urlaubspiraten.de/tag/   \n",
       "2019-03-25T00:00:00+01:00           https://www.urlaubspiraten.de/tourismus/   \n",
       "2019-03-25T00:00:00+01:00        https://www.urlaubspiraten.de/uebernachten/   \n",
       "2019-03-25T00:00:00+01:00       https://www.urlaubspiraten.de/reise-journal/   \n",
       "2019-03-25T00:00:00+01:00          https://www.urlaubspiraten.de/reisetipps/   \n",
       "2019-03-25T00:00:00+01:00           https://www.urlaubspiraten.de/sonstiges/   \n",
       "2019-03-25T00:00:00+01:00              https://www.urlaubspiraten.de/hotels/   \n",
       "2019-03-25T00:00:00+01:00           https://www.urlaubspiraten.de/aktuelles/   \n",
       "2019-03-25T00:00:00+01:00                   https://www.urlaubspiraten.de/b/   \n",
       "2019-03-25T00:00:00+01:00               https://www.urlaubspiraten.de/fluge/   \n",
       "2019-03-25T00:00:00+01:00        https://www.urlaubspiraten.de/kreuzfahrten/   \n",
       "2019-03-25T00:00:00+01:00               https://www.urlaubspiraten.de/pages/   \n",
       "\n",
       "                           top100   top10  sichtbarkeitsindex  pct_top10  \n",
       "date                                                                      \n",
       "2019-03-25T00:00:00+01:00    8694  2302.0             13.2644   0.264780  \n",
       "2019-03-25T00:00:00+01:00     347    88.0              0.0211   0.253602  \n",
       "2019-03-25T00:00:00+01:00    7147  1334.0             14.5425   0.186652  \n",
       "2019-03-25T00:00:00+01:00     195    29.0              0.1364   0.148718  \n",
       "2019-03-25T00:00:00+01:00    1351   174.0              5.4202   0.128793  \n",
       "2019-03-25T00:00:00+01:00     101    12.0              0.1202   0.118812  \n",
       "2019-03-25T00:00:00+01:00     227    25.0              0.0122   0.110132  \n",
       "2019-03-25T00:00:00+01:00     257    20.0              0.0449   0.077821  \n",
       "2019-03-25T00:00:00+01:00     126     7.0              0.0056   0.055556  \n",
       "2019-03-25T00:00:00+01:00     357    14.0              0.0517   0.039216  \n",
       "2019-03-25T00:00:00+01:00      39     1.0              0.0023   0.025641  \n",
       "2019-03-25T00:00:00+01:00    3871    66.0              2.0499   0.017050  \n",
       "2019-03-25T00:00:00+01:00     241     4.0              0.0179   0.016598  \n",
       "2019-03-25T00:00:00+01:00      42     NaN              0.0022        NaN  \n",
       "2019-03-25T00:00:00+01:00       6     NaN              0.0066        NaN  "
      ]
     },
     "execution_count": 23,
     "metadata": {},
     "output_type": "execute_result"
    }
   ],
   "source": [
    "df.sort_values('pct_top10', ascending=False)"
   ]
  },
  {
   "cell_type": "markdown",
   "metadata": {},
   "source": [
    "## Interaktiver Plot mit Plotly\n",
    "Da wir natürlich schlecht erkennen können, welche der Scatter-Punkte welche URL darstellt, sind interaktive Plots eine tolle Lösung. Eine sehr gute Library hierfür ist [Plotly](https://plot.ly/python/)."
   ]
  },
  {
   "cell_type": "code",
   "execution_count": 24,
   "metadata": {},
   "outputs": [
    {
     "data": {
      "text/html": [
       "<script type=\"text/javascript\">window.PlotlyConfig = {MathJaxConfig: 'local'};</script><script type=\"text/javascript\">if (window.MathJax) {MathJax.Hub.Config({SVG: {font: \"STIX-Web\"}});}</script><script>requirejs.config({paths: { 'plotly': ['https://cdn.plot.ly/plotly-latest.min']},});if(!window._Plotly) {require(['plotly'],function(plotly) {window._Plotly=plotly;});}</script>"
      ],
      "text/vnd.plotly.v1+html": [
       "<script type=\"text/javascript\">window.PlotlyConfig = {MathJaxConfig: 'local'};</script><script type=\"text/javascript\">if (window.MathJax) {MathJax.Hub.Config({SVG: {font: \"STIX-Web\"}});}</script><script>requirejs.config({paths: { 'plotly': ['https://cdn.plot.ly/plotly-latest.min']},});if(!window._Plotly) {require(['plotly'],function(plotly) {window._Plotly=plotly;});}</script>"
      ]
     },
     "metadata": {},
     "output_type": "display_data"
    },
    {
     "data": {
      "application/vnd.plotly.v1+json": {
       "config": {
        "linkText": "Export to plot.ly",
        "plotlyServerURL": "https://plot.ly",
        "showLink": false
       },
       "data": [
        {
         "marker": {
          "opacity": 0.5,
          "size": [
           0.0211,
           0.0023,
           2.0499,
           0.0179,
           0.0517,
           0.0022,
           0.0066,
           0.0122,
           13.2644,
           0.0449,
           0.0056,
           0.1364,
           5.4202,
           0.1202,
           14.5425
          ],
          "sizemin": 10,
          "sizemode": "area",
          "sizeref": 0.0029085
         },
         "mode": "markers",
         "text": [
          "https://gutscheine.urlaubspiraten.de/gutscheincode/<br>Si: 0.0211",
          "https://www.urlaubspiraten.de/aktuelles/<br>Si: 0.0023",
          "https://www.urlaubspiraten.de/b/<br>Si: 2.0499",
          "https://www.urlaubspiraten.de/fluge/<br>Si: 0.0179",
          "https://www.urlaubspiraten.de/hotels/<br>Si: 0.0517",
          "https://www.urlaubspiraten.de/kreuzfahrten/<br>Si: 0.0022",
          "https://www.urlaubspiraten.de/pages/<br>Si: 0.0066",
          "https://www.urlaubspiraten.de/reise-journal/<br>Si: 0.0122",
          "https://www.urlaubspiraten.de/reisen/<br>Si: 13.2644",
          "https://www.urlaubspiraten.de/reisetipps/<br>Si: 0.0449",
          "https://www.urlaubspiraten.de/sonstiges/<br>Si: 0.0056",
          "https://www.urlaubspiraten.de/tag/<br>Si: 0.1364",
          "https://www.urlaubspiraten.de/tourismus/<br>Si: 5.4202",
          "https://www.urlaubspiraten.de/uebernachten/<br>Si: 0.1202",
          "https://www.urlaubspiraten.de/urlaub/<br>Si: 14.5425"
         ],
         "type": "scatter",
         "uid": "3b37d7ec-d263-46e2-bd5e-b35e3db8cb10",
         "x": [
          0.25360230547550433,
          0.02564102564102564,
          0.017049857917850686,
          0.016597510373443983,
          0.0392156862745098,
          null,
          null,
          0.11013215859030837,
          0.26478030825856913,
          0.07782101167315175,
          0.05555555555555555,
          0.14871794871794872,
          0.12879348630643966,
          0.1188118811881188,
          0.18665174198964601
         ],
         "y": [
          347,
          39,
          3871,
          241,
          357,
          42,
          6,
          227,
          8694,
          257,
          126,
          195,
          1351,
          101,
          7147
         ]
        }
       ],
       "layout": {
        "height": 800,
        "title": {
         "text": "Sistrix HPCF"
        },
        "xaxis": {
         "title": {
          "text": "Anteil Top 10 Keywords (%)"
         }
        },
        "yaxis": {
         "range": [
          0,
          8694
         ],
         "title": {
          "text": "Top 100 Keywords"
         }
        }
       }
      },
      "text/html": [
       "<div id=\"e99c354a-14f5-4d52-9e23-2092670882e6\" style=\"height: 800px; width: 100%;\" class=\"plotly-graph-div\"></div><script type=\"text/javascript\">require([\"plotly\"], function(Plotly) { window.PLOTLYENV=window.PLOTLYENV || {};window.PLOTLYENV.BASE_URL=\"https://plot.ly\";\n",
       "if (document.getElementById(\"e99c354a-14f5-4d52-9e23-2092670882e6\")) {\n",
       "    Plotly.newPlot(\"e99c354a-14f5-4d52-9e23-2092670882e6\", [{\"marker\": {\"opacity\": 0.5, \"size\": [0.0211, 0.0023, 2.0499, 0.0179, 0.0517, 0.0022, 0.0066, 0.0122, 13.2644, 0.0449, 0.0056, 0.1364, 5.4202, 0.1202, 14.5425], \"sizemin\": 10, \"sizemode\": \"area\", \"sizeref\": 0.0029085}, \"mode\": \"markers\", \"text\": [\"https://gutscheine.urlaubspiraten.de/gutscheincode/<br>Si: 0.0211\", \"https://www.urlaubspiraten.de/aktuelles/<br>Si: 0.0023\", \"https://www.urlaubspiraten.de/b/<br>Si: 2.0499\", \"https://www.urlaubspiraten.de/fluge/<br>Si: 0.0179\", \"https://www.urlaubspiraten.de/hotels/<br>Si: 0.0517\", \"https://www.urlaubspiraten.de/kreuzfahrten/<br>Si: 0.0022\", \"https://www.urlaubspiraten.de/pages/<br>Si: 0.0066\", \"https://www.urlaubspiraten.de/reise-journal/<br>Si: 0.0122\", \"https://www.urlaubspiraten.de/reisen/<br>Si: 13.2644\", \"https://www.urlaubspiraten.de/reisetipps/<br>Si: 0.0449\", \"https://www.urlaubspiraten.de/sonstiges/<br>Si: 0.0056\", \"https://www.urlaubspiraten.de/tag/<br>Si: 0.1364\", \"https://www.urlaubspiraten.de/tourismus/<br>Si: 5.4202\", \"https://www.urlaubspiraten.de/uebernachten/<br>Si: 0.1202\", \"https://www.urlaubspiraten.de/urlaub/<br>Si: 14.5425\"], \"x\": [0.25360230547550433, 0.02564102564102564, 0.017049857917850686, 0.016597510373443983, 0.0392156862745098, null, null, 0.11013215859030837, 0.26478030825856913, 0.07782101167315175, 0.05555555555555555, 0.14871794871794872, 0.12879348630643966, 0.1188118811881188, 0.18665174198964601], \"y\": [347, 39, 3871, 241, 357, 42, 6, 227, 8694, 257, 126, 195, 1351, 101, 7147], \"type\": \"scatter\", \"uid\": \"3b37d7ec-d263-46e2-bd5e-b35e3db8cb10\"}], {\"height\": 800, \"title\": {\"text\": \"Sistrix HPCF\"}, \"xaxis\": {\"title\": {\"text\": \"Anteil Top 10 Keywords (%)\"}}, \"yaxis\": {\"range\": [0, 8694], \"title\": {\"text\": \"Top 100 Keywords\"}}}, {\"showLink\": false, \"linkText\": \"Export to plot.ly\", \"plotlyServerURL\": \"https://plot.ly\"}); \n",
       "}\n",
       "});</script><script type=\"text/javascript\">window.addEventListener(\"resize\", function(){if (document.getElementById(\"e99c354a-14f5-4d52-9e23-2092670882e6\")) {window._Plotly.Plots.resize(document.getElementById(\"e99c354a-14f5-4d52-9e23-2092670882e6\"));};})</script>"
      ],
      "text/vnd.plotly.v1+html": [
       "<div id=\"e99c354a-14f5-4d52-9e23-2092670882e6\" style=\"height: 800px; width: 100%;\" class=\"plotly-graph-div\"></div><script type=\"text/javascript\">require([\"plotly\"], function(Plotly) { window.PLOTLYENV=window.PLOTLYENV || {};window.PLOTLYENV.BASE_URL=\"https://plot.ly\";\n",
       "if (document.getElementById(\"e99c354a-14f5-4d52-9e23-2092670882e6\")) {\n",
       "    Plotly.newPlot(\"e99c354a-14f5-4d52-9e23-2092670882e6\", [{\"marker\": {\"opacity\": 0.5, \"size\": [0.0211, 0.0023, 2.0499, 0.0179, 0.0517, 0.0022, 0.0066, 0.0122, 13.2644, 0.0449, 0.0056, 0.1364, 5.4202, 0.1202, 14.5425], \"sizemin\": 10, \"sizemode\": \"area\", \"sizeref\": 0.0029085}, \"mode\": \"markers\", \"text\": [\"https://gutscheine.urlaubspiraten.de/gutscheincode/<br>Si: 0.0211\", \"https://www.urlaubspiraten.de/aktuelles/<br>Si: 0.0023\", \"https://www.urlaubspiraten.de/b/<br>Si: 2.0499\", \"https://www.urlaubspiraten.de/fluge/<br>Si: 0.0179\", \"https://www.urlaubspiraten.de/hotels/<br>Si: 0.0517\", \"https://www.urlaubspiraten.de/kreuzfahrten/<br>Si: 0.0022\", \"https://www.urlaubspiraten.de/pages/<br>Si: 0.0066\", \"https://www.urlaubspiraten.de/reise-journal/<br>Si: 0.0122\", \"https://www.urlaubspiraten.de/reisen/<br>Si: 13.2644\", \"https://www.urlaubspiraten.de/reisetipps/<br>Si: 0.0449\", \"https://www.urlaubspiraten.de/sonstiges/<br>Si: 0.0056\", \"https://www.urlaubspiraten.de/tag/<br>Si: 0.1364\", \"https://www.urlaubspiraten.de/tourismus/<br>Si: 5.4202\", \"https://www.urlaubspiraten.de/uebernachten/<br>Si: 0.1202\", \"https://www.urlaubspiraten.de/urlaub/<br>Si: 14.5425\"], \"x\": [0.25360230547550433, 0.02564102564102564, 0.017049857917850686, 0.016597510373443983, 0.0392156862745098, null, null, 0.11013215859030837, 0.26478030825856913, 0.07782101167315175, 0.05555555555555555, 0.14871794871794872, 0.12879348630643966, 0.1188118811881188, 0.18665174198964601], \"y\": [347, 39, 3871, 241, 357, 42, 6, 227, 8694, 257, 126, 195, 1351, 101, 7147], \"type\": \"scatter\", \"uid\": \"3b37d7ec-d263-46e2-bd5e-b35e3db8cb10\"}], {\"height\": 800, \"title\": {\"text\": \"Sistrix HPCF\"}, \"xaxis\": {\"title\": {\"text\": \"Anteil Top 10 Keywords (%)\"}}, \"yaxis\": {\"range\": [0, 8694], \"title\": {\"text\": \"Top 100 Keywords\"}}}, {\"showLink\": false, \"linkText\": \"Export to plot.ly\", \"plotlyServerURL\": \"https://plot.ly\"}); \n",
       "}\n",
       "});</script><script type=\"text/javascript\">window.addEventListener(\"resize\", function(){if (document.getElementById(\"e99c354a-14f5-4d52-9e23-2092670882e6\")) {window._Plotly.Plots.resize(document.getElementById(\"e99c354a-14f5-4d52-9e23-2092670882e6\"));};})</script>"
      ]
     },
     "metadata": {},
     "output_type": "display_data"
    }
   ],
   "source": [
    "from plotly.offline import download_plotlyjs, init_notebook_mode, plot, iplot\n",
    "import plotly.graph_objs as go\n",
    "init_notebook_mode(connected=True)\n",
    "\n",
    "data = [go.Scatter(x=df['pct_top10'], \n",
    "                   y=df['top100'], \n",
    "                   mode='markers',\n",
    "                   marker=dict(size=df['sichtbarkeitsindex'],\n",
    "                               sizemode='area',\n",
    "                               sizeref=2.*df['sichtbarkeitsindex'].max()/(100.**2),\n",
    "                               sizemin=10,\n",
    "                               opacity=.5),\n",
    "                  text=df['path'].str.cat(df['sichtbarkeitsindex'].astype('str'), sep='<br>Si: '))]\n",
    "\n",
    "layout = go.Layout(title='Sistrix HPCF', \n",
    "                   xaxis=dict(title='Anteil Top 10 Keywords (%)'), \n",
    "                   yaxis=dict(title='Top 100 Keywords',\n",
    "                              range=[0,df['top100'].max()]),\n",
    "                   height=800)\n",
    "\n",
    "fig = go.Figure(data=data, layout=layout)\n",
    "\n",
    "iplot(fig)"
   ]
  }
 ],
 "metadata": {
  "hide_input": false,
  "kernelspec": {
   "display_name": "Python 3",
   "language": "python",
   "name": "python3"
  },
  "language_info": {
   "codemirror_mode": {
    "name": "ipython",
    "version": 3
   },
   "file_extension": ".py",
   "mimetype": "text/x-python",
   "name": "python",
   "nbconvert_exporter": "python",
   "pygments_lexer": "ipython3",
   "version": "3.7.2"
  }
 },
 "nbformat": 4,
 "nbformat_minor": 2
}
